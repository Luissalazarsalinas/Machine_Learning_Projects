{
 "cells": [
  {
   "cell_type": "markdown",
   "id": "976149f3-d66b-429a-b1ec-3f55dcfab131",
   "metadata": {},
   "source": [
    "# Fast Food Marketing Campaign A\\B Test"
   ]
  },
  {
   "cell_type": "markdown",
   "id": "6cb98c2a-6216-498c-b6b6-c317e89a9821",
   "metadata": {},
   "source": [
    "![fastfood](https://images.unsplash.com/photo-1512152272829-e3139592d56f?ixlib=rb-1.2.1&ixid=MnwxMjA3fDB8MHxwaG90by1wYWdlfHx8fGVufDB8fHx8&auto=format&fit=crop&w=870&q=80)\n",
    "\n",
    "### Problem Statement\n",
    "A fast-food chain plants to add a new item to its menu. However, they are still undecided between three possible marketing campaigs for promoting the new product. In order to determine which promotion has the gratest effect on sales, the new item is introduced at locations in several randomly selcted markets. A different promotions is used at each location, and the weekly sales of the new item are recorded for the first four weeks.\n",
    "\n",
    "In this project, we going to develop a A\\B Test to detect differences statistically significant among the Promotions, and finding which (promotion) has the greatest effect on sales."
   ]
  },
  {
   "cell_type": "markdown",
   "id": "76d9f73e-66cd-479f-967c-98467fb06918",
   "metadata": {},
   "source": [
    "Author: Luis Fernando Salazar S.\n",
    "\n",
    "Date: 29/09/2022"
   ]
  },
  {
   "cell_type": "markdown",
   "id": "e613a8ce-acaf-4872-bab3-dcdd6704a030",
   "metadata": {},
   "source": [
    "### Install and Inport libraries "
   ]
  },
  {
   "cell_type": "code",
   "execution_count": null,
   "id": "83104828-983f-4c1b-929d-d06d50df2cd7",
   "metadata": {},
   "outputs": [],
   "source": [
    "!pip install bioinfokit"
   ]
  },
  {
   "cell_type": "code",
   "execution_count": 2,
   "id": "c00f2325-6896-4498-9b1a-a3d033c3ccb9",
   "metadata": {},
   "outputs": [],
   "source": [
    "# Import libraries\n",
    "import warnings \n",
    "warnings.simplefilter(action = \"ignore\")\n",
    "\n",
    "import matplotlib.pyplot as plt\n",
    "%matplotlib inline\n",
    "import seaborn as sns\n",
    "import plotly.express as px\n",
    "from statsmodels.graphics.gofplots import qqplot\n",
    "\n",
    "import numpy as np\n",
    "import pandas as pd\n",
    "from sklearn.preprocessing import Normalizer\n",
    "import scipy\n",
    "from scipy.stats import boxcox\n",
    "from scipy.stats import shapiro, levene\n",
    "\n",
    "import statsmodels.api as sm\n",
    "from statsmodels.stats.power import FTestAnovaPower\n",
    "from statsmodels.formula.api import ols"
   ]
  },
  {
   "cell_type": "markdown",
   "id": "4a584e64-74e0-4154-88be-3cddfcc665a7",
   "metadata": {},
   "source": [
    "### Get the dataset"
   ]
  },
  {
   "cell_type": "code",
   "execution_count": 3,
   "id": "1a43f6a5-c21b-468d-83fc-ca0ef3a96786",
   "metadata": {},
   "outputs": [
    {
     "name": "stdout",
     "output_type": "stream",
     "text": [
      "<class 'pandas.core.frame.DataFrame'>\n",
      "RangeIndex: 548 entries, 0 to 547\n",
      "Data columns (total 7 columns):\n",
      " #   Column            Non-Null Count  Dtype  \n",
      "---  ------            --------------  -----  \n",
      " 0   MarketID          548 non-null    int64  \n",
      " 1   MarketSize        548 non-null    object \n",
      " 2   LocationID        548 non-null    int64  \n",
      " 3   AgeOfStore        548 non-null    int64  \n",
      " 4   Promotion         548 non-null    int64  \n",
      " 5   week              548 non-null    int64  \n",
      " 6   SalesInThousands  548 non-null    float64\n",
      "dtypes: float64(1), int64(5), object(1)\n",
      "memory usage: 30.1+ KB\n"
     ]
    }
   ],
   "source": [
    "## Get data \n",
    "filepath = \"C:/Users/User/Desktop/ML_Project/Fast Food Marketing Campaign AB Test/WA_Marketing-Campaign.csv\"\n",
    "df = pd.read_csv(filepath)\n",
    "df.info()"
   ]
  },
  {
   "cell_type": "markdown",
   "id": "9cfaacb5-941b-47a2-9eb6-ea4f19261877",
   "metadata": {},
   "source": [
    "### EDA"
   ]
  },
  {
   "cell_type": "code",
   "execution_count": 3,
   "id": "2fcfd008-e94b-4f47-a59b-77b829c92a2e",
   "metadata": {},
   "outputs": [
    {
     "name": "stdout",
     "output_type": "stream",
     "text": [
      "Data Shape: (548, 7)\n"
     ]
    },
    {
     "data": {
      "text/html": [
       "<div>\n",
       "<style scoped>\n",
       "    .dataframe tbody tr th:only-of-type {\n",
       "        vertical-align: middle;\n",
       "    }\n",
       "\n",
       "    .dataframe tbody tr th {\n",
       "        vertical-align: top;\n",
       "    }\n",
       "\n",
       "    .dataframe thead th {\n",
       "        text-align: right;\n",
       "    }\n",
       "</style>\n",
       "<table border=\"1\" class=\"dataframe\">\n",
       "  <thead>\n",
       "    <tr style=\"text-align: right;\">\n",
       "      <th></th>\n",
       "      <th>MarketID</th>\n",
       "      <th>MarketSize</th>\n",
       "      <th>LocationID</th>\n",
       "      <th>AgeOfStore</th>\n",
       "      <th>Promotion</th>\n",
       "      <th>week</th>\n",
       "      <th>SalesInThousands</th>\n",
       "    </tr>\n",
       "  </thead>\n",
       "  <tbody>\n",
       "    <tr>\n",
       "      <th>0</th>\n",
       "      <td>1</td>\n",
       "      <td>Medium</td>\n",
       "      <td>1</td>\n",
       "      <td>4</td>\n",
       "      <td>3</td>\n",
       "      <td>1</td>\n",
       "      <td>33.73</td>\n",
       "    </tr>\n",
       "    <tr>\n",
       "      <th>1</th>\n",
       "      <td>1</td>\n",
       "      <td>Medium</td>\n",
       "      <td>1</td>\n",
       "      <td>4</td>\n",
       "      <td>3</td>\n",
       "      <td>2</td>\n",
       "      <td>35.67</td>\n",
       "    </tr>\n",
       "    <tr>\n",
       "      <th>2</th>\n",
       "      <td>1</td>\n",
       "      <td>Medium</td>\n",
       "      <td>1</td>\n",
       "      <td>4</td>\n",
       "      <td>3</td>\n",
       "      <td>3</td>\n",
       "      <td>29.03</td>\n",
       "    </tr>\n",
       "    <tr>\n",
       "      <th>3</th>\n",
       "      <td>1</td>\n",
       "      <td>Medium</td>\n",
       "      <td>1</td>\n",
       "      <td>4</td>\n",
       "      <td>3</td>\n",
       "      <td>4</td>\n",
       "      <td>39.25</td>\n",
       "    </tr>\n",
       "    <tr>\n",
       "      <th>4</th>\n",
       "      <td>1</td>\n",
       "      <td>Medium</td>\n",
       "      <td>2</td>\n",
       "      <td>5</td>\n",
       "      <td>2</td>\n",
       "      <td>1</td>\n",
       "      <td>27.81</td>\n",
       "    </tr>\n",
       "  </tbody>\n",
       "</table>\n",
       "</div>"
      ],
      "text/plain": [
       "   MarketID MarketSize  LocationID  AgeOfStore  Promotion  week  \\\n",
       "0         1     Medium           1           4          3     1   \n",
       "1         1     Medium           1           4          3     2   \n",
       "2         1     Medium           1           4          3     3   \n",
       "3         1     Medium           1           4          3     4   \n",
       "4         1     Medium           2           5          2     1   \n",
       "\n",
       "   SalesInThousands  \n",
       "0             33.73  \n",
       "1             35.67  \n",
       "2             29.03  \n",
       "3             39.25  \n",
       "4             27.81  "
      ]
     },
     "execution_count": 3,
     "metadata": {},
     "output_type": "execute_result"
    }
   ],
   "source": [
    "## shape \n",
    "print(f\"Data Shape: {df.shape}\")\n",
    "df.head()"
   ]
  },
  {
   "cell_type": "code",
   "execution_count": 4,
   "id": "f07d1e01-2ccc-40a7-a455-0d7baec671c2",
   "metadata": {},
   "outputs": [
    {
     "data": {
      "text/html": [
       "<div>\n",
       "<style scoped>\n",
       "    .dataframe tbody tr th:only-of-type {\n",
       "        vertical-align: middle;\n",
       "    }\n",
       "\n",
       "    .dataframe tbody tr th {\n",
       "        vertical-align: top;\n",
       "    }\n",
       "\n",
       "    .dataframe thead th {\n",
       "        text-align: right;\n",
       "    }\n",
       "</style>\n",
       "<table border=\"1\" class=\"dataframe\">\n",
       "  <thead>\n",
       "    <tr style=\"text-align: right;\">\n",
       "      <th></th>\n",
       "      <th>count</th>\n",
       "      <th>mean</th>\n",
       "      <th>std</th>\n",
       "      <th>min</th>\n",
       "      <th>25%</th>\n",
       "      <th>50%</th>\n",
       "      <th>75%</th>\n",
       "      <th>max</th>\n",
       "    </tr>\n",
       "  </thead>\n",
       "  <tbody>\n",
       "    <tr>\n",
       "      <th>MarketID</th>\n",
       "      <td>548.0</td>\n",
       "      <td>5.715328</td>\n",
       "      <td>2.877001</td>\n",
       "      <td>1.00</td>\n",
       "      <td>3.000</td>\n",
       "      <td>6.0</td>\n",
       "      <td>8.0000</td>\n",
       "      <td>10.00</td>\n",
       "    </tr>\n",
       "    <tr>\n",
       "      <th>LocationID</th>\n",
       "      <td>548.0</td>\n",
       "      <td>479.656934</td>\n",
       "      <td>287.973679</td>\n",
       "      <td>1.00</td>\n",
       "      <td>216.000</td>\n",
       "      <td>504.0</td>\n",
       "      <td>708.0000</td>\n",
       "      <td>920.00</td>\n",
       "    </tr>\n",
       "    <tr>\n",
       "      <th>AgeOfStore</th>\n",
       "      <td>548.0</td>\n",
       "      <td>8.503650</td>\n",
       "      <td>6.638345</td>\n",
       "      <td>1.00</td>\n",
       "      <td>4.000</td>\n",
       "      <td>7.0</td>\n",
       "      <td>12.0000</td>\n",
       "      <td>28.00</td>\n",
       "    </tr>\n",
       "    <tr>\n",
       "      <th>Promotion</th>\n",
       "      <td>548.0</td>\n",
       "      <td>2.029197</td>\n",
       "      <td>0.810729</td>\n",
       "      <td>1.00</td>\n",
       "      <td>1.000</td>\n",
       "      <td>2.0</td>\n",
       "      <td>3.0000</td>\n",
       "      <td>3.00</td>\n",
       "    </tr>\n",
       "    <tr>\n",
       "      <th>week</th>\n",
       "      <td>548.0</td>\n",
       "      <td>2.500000</td>\n",
       "      <td>1.119055</td>\n",
       "      <td>1.00</td>\n",
       "      <td>1.750</td>\n",
       "      <td>2.5</td>\n",
       "      <td>3.2500</td>\n",
       "      <td>4.00</td>\n",
       "    </tr>\n",
       "    <tr>\n",
       "      <th>SalesInThousands</th>\n",
       "      <td>548.0</td>\n",
       "      <td>53.466204</td>\n",
       "      <td>16.755216</td>\n",
       "      <td>17.34</td>\n",
       "      <td>42.545</td>\n",
       "      <td>50.2</td>\n",
       "      <td>60.4775</td>\n",
       "      <td>99.65</td>\n",
       "    </tr>\n",
       "  </tbody>\n",
       "</table>\n",
       "</div>"
      ],
      "text/plain": [
       "                  count        mean         std    min      25%    50%  \\\n",
       "MarketID          548.0    5.715328    2.877001   1.00    3.000    6.0   \n",
       "LocationID        548.0  479.656934  287.973679   1.00  216.000  504.0   \n",
       "AgeOfStore        548.0    8.503650    6.638345   1.00    4.000    7.0   \n",
       "Promotion         548.0    2.029197    0.810729   1.00    1.000    2.0   \n",
       "week              548.0    2.500000    1.119055   1.00    1.750    2.5   \n",
       "SalesInThousands  548.0   53.466204   16.755216  17.34   42.545   50.2   \n",
       "\n",
       "                       75%     max  \n",
       "MarketID            8.0000   10.00  \n",
       "LocationID        708.0000  920.00  \n",
       "AgeOfStore         12.0000   28.00  \n",
       "Promotion           3.0000    3.00  \n",
       "week                3.2500    4.00  \n",
       "SalesInThousands   60.4775   99.65  "
      ]
     },
     "execution_count": 4,
     "metadata": {},
     "output_type": "execute_result"
    }
   ],
   "source": [
    "## Main summary statistics\n",
    "df.describe().T"
   ]
  },
  {
   "cell_type": "code",
   "execution_count": 5,
   "id": "497fce6c-7dc4-4377-b739-7338efba917d",
   "metadata": {},
   "outputs": [
    {
     "data": {
      "text/html": [
       "<div>\n",
       "<style scoped>\n",
       "    .dataframe tbody tr th:only-of-type {\n",
       "        vertical-align: middle;\n",
       "    }\n",
       "\n",
       "    .dataframe tbody tr th {\n",
       "        vertical-align: top;\n",
       "    }\n",
       "\n",
       "    .dataframe thead th {\n",
       "        text-align: right;\n",
       "    }\n",
       "</style>\n",
       "<table border=\"1\" class=\"dataframe\">\n",
       "  <thead>\n",
       "    <tr style=\"text-align: right;\">\n",
       "      <th></th>\n",
       "      <th>MarketSize</th>\n",
       "    </tr>\n",
       "  </thead>\n",
       "  <tbody>\n",
       "    <tr>\n",
       "      <th>count</th>\n",
       "      <td>548</td>\n",
       "    </tr>\n",
       "    <tr>\n",
       "      <th>unique</th>\n",
       "      <td>3</td>\n",
       "    </tr>\n",
       "    <tr>\n",
       "      <th>top</th>\n",
       "      <td>Medium</td>\n",
       "    </tr>\n",
       "    <tr>\n",
       "      <th>freq</th>\n",
       "      <td>320</td>\n",
       "    </tr>\n",
       "  </tbody>\n",
       "</table>\n",
       "</div>"
      ],
      "text/plain": [
       "       MarketSize\n",
       "count         548\n",
       "unique          3\n",
       "top        Medium\n",
       "freq          320"
      ]
     },
     "execution_count": 5,
     "metadata": {},
     "output_type": "execute_result"
    }
   ],
   "source": [
    "# categorical variables\n",
    "df.describe(include = \"object\")"
   ]
  },
  {
   "cell_type": "markdown",
   "id": "48843433-199c-4c2c-96b7-bca7b2b10534",
   "metadata": {},
   "source": [
    "#### Distribution of the Variables"
   ]
  },
  {
   "cell_type": "code",
   "execution_count": 6,
   "id": "c0f57a96-964c-49e0-8186-69515c605dea",
   "metadata": {},
   "outputs": [
    {
     "data": {
      "image/png": "[encoded data removed]",
      "text/plain": [
       "<Figure size 1080x576 with 1 Axes>"
      ]
     },
     "metadata": {
      "needs_background": "light"
     },
     "output_type": "display_data"
    }
   ],
   "source": [
    "## Sales distribution\n",
    "plt.figure(figsize = (15, 8))\n",
    "sns.histplot(data = df, \n",
    "             x = \"SalesInThousands\", \n",
    "             bins = 10, kde = True);"
   ]
  },
  {
   "cell_type": "code",
   "execution_count": 7,
   "id": "d17b61c4-a324-493f-a50a-c583cf036cec",
   "metadata": {},
   "outputs": [
    {
     "data": {
      "image/png": "[encoded data removed]",
      "text/plain": [
       "<Figure size 1080x576 with 6 Axes>"
      ]
     },
     "metadata": {
      "needs_background": "light"
     },
     "output_type": "display_data"
    }
   ],
   "source": [
    "## variable Distributions\n",
    "df.drop(columns = \"SalesInThousands\").hist(bins = 10,\n",
    "                                           figsize = (15, 8),\n",
    "                                           grid = False,\n",
    "                                           layout = (-1, 3),\n",
    "                                           color = \"blue\",\n",
    "                                           edgecolor = \"black\",\n",
    "                                           )\n",
    "plt.tight_layout();"
   ]
  },
  {
   "cell_type": "markdown",
   "id": "f7e79cf7-a82e-45d1-b0ff-1b6891c865f5",
   "metadata": {},
   "source": [
    "#### Visual Analysis - Market size"
   ]
  },
  {
   "cell_type": "code",
   "execution_count": 8,
   "id": "2775d803-62d1-45ab-bce8-1c160ae00cf8",
   "metadata": {},
   "outputs": [
    {
     "data": {
      "image/png": "[encoded data removed]",
      "text/plain": [
       "<Figure size 1368x720 with 1 Axes>"
      ]
     },
     "metadata": {
      "needs_background": "light"
     },
     "output_type": "display_data"
    }
   ],
   "source": [
    "## Group by market size and promotions\n",
    "group_marke_size = (\n",
    "    df\n",
    "    .groupby([\"MarketSize\", \"Promotion\"])[\"SalesInThousands\"]\n",
    "    .mean()\n",
    "    .to_frame()\n",
    "    .reset_index()\n",
    ")\n",
    "\n",
    "\n",
    "# Barplot\n",
    "fig, ax = plt.subplots(figsize = (19,10))\n",
    "\n",
    "sns.barplot(data = group_marke_size,\n",
    "            x = 'SalesInThousands',\n",
    "            y = 'MarketSize',\n",
    "            hue = 'Promotion',\n",
    "            ax = ax\n",
    "            )\n",
    "\n",
    "ax.set(xlabel = 'Average Sales',\n",
    "       ylabel = 'Market size',\n",
    ")\n",
    "\n",
    "plt.tight_layout();"
   ]
  },
  {
   "cell_type": "markdown",
   "id": "ea5ef3c4-e7ea-45e1-a811-c345ab0466bd",
   "metadata": {},
   "source": [
    "#### Visual Analysis - Weeks "
   ]
  },
  {
   "cell_type": "code",
   "execution_count": 9,
   "id": "dd163f8e-8dea-485c-a028-0d6c2b688178",
   "metadata": {},
   "outputs": [
    {
     "data": {
      "image/png": "[encoded data removed]",
      "text/plain": [
       "<Figure size 1080x576 with 1 Axes>"
      ]
     },
     "metadata": {
      "needs_background": "light"
     },
     "output_type": "display_data"
    }
   ],
   "source": [
    "# Continue variable\n",
    "y_value = \"SalesInThousands\"\n",
    "\n",
    "# violinplot plot\n",
    "fig, ax = plt.subplots(figsize = (15,8))\n",
    "sns.violinplot(data = df,\n",
    "              x = \"week\",\n",
    "              y = y_value,\n",
    "              hue = \"Promotion\",\n",
    "              ax = ax);"
   ]
  },
  {
   "cell_type": "markdown",
   "id": "b1853e13-472b-43ce-ba47-7398f6fe08d1",
   "metadata": {},
   "source": [
    "#### Visual Analysis - Promotions"
   ]
  },
  {
   "cell_type": "code",
   "execution_count": 10,
   "id": "38619257-e9e2-4be4-a011-c5f93fd2d107",
   "metadata": {},
   "outputs": [
    {
     "data": {
      "image/png": "[encoded data removed]",
      "text/plain": [
       "<Figure size 1080x576 with 1 Axes>"
      ]
     },
     "metadata": {
      "needs_background": "light"
     },
     "output_type": "display_data"
    }
   ],
   "source": [
    "# boxplot plot\n",
    "fig, ax = plt.subplots(figsize = (15,8))\n",
    "sns.boxplot(data = df,\n",
    "              x = \"Promotion\",\n",
    "              y = y_value,\n",
    "              ax = ax)\n",
    "\n",
    "ax.set_xlabel(\" Promotions\")\n",
    "ax.set_ylabel(\" Sales in thousands\");"
   ]
  },
  {
   "cell_type": "markdown",
   "id": "b6ebcb0d-975d-4c98-b0fa-d99d5e37cc5b",
   "metadata": {},
   "source": [
    "### Data preprocessing"
   ]
  },
  {
   "cell_type": "code",
   "execution_count": 4,
   "id": "e22e1459-f0ea-4c5e-b8ea-39819ee1ad31",
   "metadata": {},
   "outputs": [
    {
     "data": {
      "text/html": [
       "<div>\n",
       "<style scoped>\n",
       "    .dataframe tbody tr th:only-of-type {\n",
       "        vertical-align: middle;\n",
       "    }\n",
       "\n",
       "    .dataframe tbody tr th {\n",
       "        vertical-align: top;\n",
       "    }\n",
       "\n",
       "    .dataframe thead th {\n",
       "        text-align: right;\n",
       "    }\n",
       "</style>\n",
       "<table border=\"1\" class=\"dataframe\">\n",
       "  <thead>\n",
       "    <tr style=\"text-align: right;\">\n",
       "      <th></th>\n",
       "      <th>treatments</th>\n",
       "      <th>sales</th>\n",
       "    </tr>\n",
       "  </thead>\n",
       "  <tbody>\n",
       "    <tr>\n",
       "      <th>0</th>\n",
       "      <td>3</td>\n",
       "      <td>33.73</td>\n",
       "    </tr>\n",
       "    <tr>\n",
       "      <th>1</th>\n",
       "      <td>3</td>\n",
       "      <td>35.67</td>\n",
       "    </tr>\n",
       "    <tr>\n",
       "      <th>2</th>\n",
       "      <td>3</td>\n",
       "      <td>29.03</td>\n",
       "    </tr>\n",
       "    <tr>\n",
       "      <th>3</th>\n",
       "      <td>3</td>\n",
       "      <td>39.25</td>\n",
       "    </tr>\n",
       "  </tbody>\n",
       "</table>\n",
       "</div>"
      ],
      "text/plain": [
       "   treatments  sales\n",
       "0           3  33.73\n",
       "1           3  35.67\n",
       "2           3  29.03\n",
       "3           3  39.25"
      ]
     },
     "execution_count": 4,
     "metadata": {},
     "output_type": "execute_result"
    }
   ],
   "source": [
    "## subset of data \n",
    "data = df[[\"Promotion\", \"SalesInThousands\"]].rename(columns = {\"Promotion\": \"treatments\",\"SalesInThousands\":\"sales\"},                                                  )\n",
    "data.head(4)"
   ]
  },
  {
   "cell_type": "markdown",
   "id": "2aba8a3c-2f4e-41d5-ad0a-5ec65a7b852a",
   "metadata": {},
   "source": [
    "#### BoxCox"
   ]
  },
  {
   "cell_type": "code",
   "execution_count": 12,
   "id": "f0cb8ecc-a89b-4f52-b2c8-a7c8cbdb4ddf",
   "metadata": {},
   "outputs": [
    {
     "name": "stdout",
     "output_type": "stream",
     "text": [
      "lambda :  0.02038728629268403\n"
     ]
    }
   ],
   "source": [
    "## BoxCox transformatins over the target variable\n",
    "target_box = boxcox(data[\"sales\"])\n",
    "data_bc = target_box[0]\n",
    "lam = target_box[1]\n",
    "print(\"lambda : \", lam)"
   ]
  },
  {
   "cell_type": "code",
   "execution_count": 13,
   "id": "c852f00d-f0fe-4c7f-8635-85bc9db62c8c",
   "metadata": {},
   "outputs": [
    {
     "data": {
      "image/png": "[encoded data removed]",
      "text/plain": [
       "<Figure size 1080x576 with 1 Axes>"
      ]
     },
     "metadata": {
      "needs_background": "light"
     },
     "output_type": "display_data"
    }
   ],
   "source": [
    "## Distribution after apply boxcox \n",
    "plt.figure(figsize =(15,8))\n",
    "plt.hist(data_bc, bins = 10, density = True);"
   ]
  },
  {
   "cell_type": "code",
   "execution_count": 5,
   "id": "05bcbcb6-de4a-46c2-a815-7fce6582f090",
   "metadata": {},
   "outputs": [
    {
     "data": {
      "text/html": [
       "<div>\n",
       "<style scoped>\n",
       "    .dataframe tbody tr th:only-of-type {\n",
       "        vertical-align: middle;\n",
       "    }\n",
       "\n",
       "    .dataframe tbody tr th {\n",
       "        vertical-align: top;\n",
       "    }\n",
       "\n",
       "    .dataframe thead th {\n",
       "        text-align: right;\n",
       "    }\n",
       "</style>\n",
       "<table border=\"1\" class=\"dataframe\">\n",
       "  <thead>\n",
       "    <tr style=\"text-align: right;\">\n",
       "      <th></th>\n",
       "      <th>treatments</th>\n",
       "      <th>sales</th>\n",
       "    </tr>\n",
       "  </thead>\n",
       "  <tbody>\n",
       "    <tr>\n",
       "      <th>0</th>\n",
       "      <td>Promotion_3</td>\n",
       "      <td>33.73</td>\n",
       "    </tr>\n",
       "    <tr>\n",
       "      <th>1</th>\n",
       "      <td>Promotion_3</td>\n",
       "      <td>35.67</td>\n",
       "    </tr>\n",
       "    <tr>\n",
       "      <th>2</th>\n",
       "      <td>Promotion_3</td>\n",
       "      <td>29.03</td>\n",
       "    </tr>\n",
       "    <tr>\n",
       "      <th>3</th>\n",
       "      <td>Promotion_3</td>\n",
       "      <td>39.25</td>\n",
       "    </tr>\n",
       "  </tbody>\n",
       "</table>\n",
       "</div>"
      ],
      "text/plain": [
       "    treatments  sales\n",
       "0  Promotion_3  33.73\n",
       "1  Promotion_3  35.67\n",
       "2  Promotion_3  29.03\n",
       "3  Promotion_3  39.25"
      ]
     },
     "execution_count": 5,
     "metadata": {},
     "output_type": "execute_result"
    }
   ],
   "source": [
    "# Mapping treataments/factors\n",
    "dict_map = {\n",
    "    1 : \"Promotion_1\",\n",
    "    2 : \"Promotion_2\",\n",
    "    3 : \"Promotion_3\"\n",
    "}\n",
    "\n",
    "data[\"treatments\"] = data[\"treatments\"].map(dict_map)\n",
    "# Add columns new target variable\n",
    "#data[\"sales_tran\"] = data_bc\n",
    "## Remove the old target variable\n",
    "#data.drop(columns = \"sales\", inplace = True)\n",
    "#head \n",
    "data.head(4)"
   ]
  },
  {
   "cell_type": "code",
   "execution_count": 15,
   "id": "24d29e1a-85b8-46a3-bd81-7359edaa12b7",
   "metadata": {},
   "outputs": [
    {
     "data": {
      "text/plain": [
       "Promotion_3    188\n",
       "Promotion_2    188\n",
       "Promotion_1    172\n",
       "Name: treatments, dtype: int64"
      ]
     },
     "execution_count": 15,
     "metadata": {},
     "output_type": "execute_result"
    }
   ],
   "source": [
    "data[\"treatments\"].value_counts()"
   ]
  },
  {
   "cell_type": "markdown",
   "id": "a0edb720-ac71-4c6d-a6a5-debf4fdcd7ae",
   "metadata": {},
   "source": [
    "### Experimental design"
   ]
  },
  {
   "cell_type": "markdown",
   "id": "b6e6de4a-ea85-421c-adbc-22c8033820f1",
   "metadata": {},
   "source": [
    "#### Hypothesis "
   ]
  },
  {
   "cell_type": "markdown",
   "id": "d7afea5d-e066-44b7-af38-07946adad327",
   "metadata": {},
   "source": [
    "- Null Hypothesis: Sales mean in the three promotions are equals (no variations between group).\n",
    "\n",
    "- Alternative Hypothesis: A least, one promotion sales' mean is different from other groups."
   ]
  },
  {
   "cell_type": "markdown",
   "id": "59586269-a095-4eae-b7c7-df233db24847",
   "metadata": {},
   "source": [
    "#### Paramentric"
   ]
  },
  {
   "cell_type": "markdown",
   "id": "ea26b5a6-f60c-413c-8162-8b77fd3e8993",
   "metadata": {
    "tags": []
   },
   "source": [
    "##### Anova (one-way)"
   ]
  },
  {
   "cell_type": "markdown",
   "id": "21e5436e-5a79-49c5-904b-7c730cf545ce",
   "metadata": {},
   "source": [
    "Hypothesis:\n",
    " - H0: μ1=μ2=…=μp\n",
    " - H1: All μ are not equal\n",
    " \n",
    "Assumtions:\n",
    "\n",
    "- Normality : residuals are approximately normally distributed\n",
    "- Homoscedasticity or Homogeneity : the variances of residuals are equal between treatment group (there is not changes)\n",
    "- Indepency : residuals are independent\n",
    " "
   ]
  },
  {
   "cell_type": "code",
   "execution_count": 16,
   "id": "6c802c7e-c83a-42a6-940e-33421894c2c5",
   "metadata": {},
   "outputs": [
    {
     "data": {
      "text/html": [
       "<div>\n",
       "<style scoped>\n",
       "    .dataframe tbody tr th:only-of-type {\n",
       "        vertical-align: middle;\n",
       "    }\n",
       "\n",
       "    .dataframe tbody tr th {\n",
       "        vertical-align: top;\n",
       "    }\n",
       "\n",
       "    .dataframe thead th {\n",
       "        text-align: right;\n",
       "    }\n",
       "</style>\n",
       "<table border=\"1\" class=\"dataframe\">\n",
       "  <thead>\n",
       "    <tr style=\"text-align: right;\">\n",
       "      <th></th>\n",
       "      <th>df</th>\n",
       "      <th>sum_sq</th>\n",
       "      <th>mean_sq</th>\n",
       "      <th>F</th>\n",
       "      <th>PR(&gt;F)</th>\n",
       "    </tr>\n",
       "  </thead>\n",
       "  <tbody>\n",
       "    <tr>\n",
       "      <th>C(treatments)</th>\n",
       "      <td>2.0</td>\n",
       "      <td>5.383328</td>\n",
       "      <td>2.691664</td>\n",
       "      <td>26.48523</td>\n",
       "      <td>1.053950e-11</td>\n",
       "    </tr>\n",
       "    <tr>\n",
       "      <th>Residual</th>\n",
       "      <td>545.0</td>\n",
       "      <td>55.387729</td>\n",
       "      <td>0.101629</td>\n",
       "      <td>NaN</td>\n",
       "      <td>NaN</td>\n",
       "    </tr>\n",
       "  </tbody>\n",
       "</table>\n",
       "</div>"
      ],
      "text/plain": [
       "                  df     sum_sq   mean_sq         F        PR(>F)\n",
       "C(treatments)    2.0   5.383328  2.691664  26.48523  1.053950e-11\n",
       "Residual       545.0  55.387729  0.101629       NaN           NaN"
      ]
     },
     "execution_count": 16,
     "metadata": {},
     "output_type": "execute_result"
    }
   ],
   "source": [
    "## Fit model\n",
    "model = ols(\"sales_tran ~ C(treatments)\", data = data).fit()\n",
    "# Anova table summary\n",
    "anova_table = sm.stats.anova_lm(model, type = 2)\n",
    "# Summary \n",
    "anova_table"
   ]
  },
  {
   "cell_type": "code",
   "execution_count": 17,
   "id": "f65ea5f3-b022-49c2-9bc4-209d8ed732a1",
   "metadata": {},
   "outputs": [
    {
     "data": {
      "text/html": [
       "<div>\n",
       "<style scoped>\n",
       "    .dataframe tbody tr th:only-of-type {\n",
       "        vertical-align: middle;\n",
       "    }\n",
       "\n",
       "    .dataframe tbody tr th {\n",
       "        vertical-align: top;\n",
       "    }\n",
       "\n",
       "    .dataframe thead th {\n",
       "        text-align: right;\n",
       "    }\n",
       "</style>\n",
       "<table border=\"1\" class=\"dataframe\">\n",
       "  <thead>\n",
       "    <tr style=\"text-align: right;\">\n",
       "      <th></th>\n",
       "      <th>df</th>\n",
       "      <th>sum_sq</th>\n",
       "      <th>mean_sq</th>\n",
       "      <th>F</th>\n",
       "      <th>PR(&gt;F)</th>\n",
       "    </tr>\n",
       "  </thead>\n",
       "  <tbody>\n",
       "    <tr>\n",
       "      <th>C(treatments)</th>\n",
       "      <td>2.0</td>\n",
       "      <td>5.383328</td>\n",
       "      <td>2.691664</td>\n",
       "      <td>26.48523</td>\n",
       "      <td>1.053950e-11</td>\n",
       "    </tr>\n",
       "    <tr>\n",
       "      <th>Residual</th>\n",
       "      <td>545.0</td>\n",
       "      <td>55.387729</td>\n",
       "      <td>0.101629</td>\n",
       "      <td>NaN</td>\n",
       "      <td>NaN</td>\n",
       "    </tr>\n",
       "  </tbody>\n",
       "</table>\n",
       "</div>"
      ],
      "text/plain": [
       "                  df     sum_sq   mean_sq         F        PR(>F)\n",
       "C(treatments)    2.0   5.383328  2.691664  26.48523  1.053950e-11\n",
       "Residual       545.0  55.387729  0.101629       NaN           NaN"
      ]
     },
     "execution_count": 17,
     "metadata": {},
     "output_type": "execute_result"
    }
   ],
   "source": [
    "## Anova with bionfokit library\n",
    "from bioinfokit.analys import stat\n",
    "# Intance of stat\n",
    "stats_anov = stat()\n",
    "#Anova\n",
    "stats_anov.anova_stat(\n",
    "    df = data,\n",
    "    res_var = \"sales_tran\",\n",
    "    xfac_var = \"treatments\",\n",
    "    anova_model = \"sales_tran ~ C(treatments)\"\n",
    ")\n",
    "## summary\n",
    "stats_anov.anova_summary"
   ]
  },
  {
   "cell_type": "markdown",
   "id": "9f17cfd0-1f63-4d65-8e54-3b4533e6f6c6",
   "metadata": {},
   "source": [
    "##### Tukey test (Post-Hoc Test)"
   ]
  },
  {
   "cell_type": "code",
   "execution_count": 18,
   "id": "1112267f-4235-457e-be80-4b50da27957b",
   "metadata": {},
   "outputs": [
    {
     "data": {
      "text/html": [
       "<div>\n",
       "<style scoped>\n",
       "    .dataframe tbody tr th:only-of-type {\n",
       "        vertical-align: middle;\n",
       "    }\n",
       "\n",
       "    .dataframe tbody tr th {\n",
       "        vertical-align: top;\n",
       "    }\n",
       "\n",
       "    .dataframe thead th {\n",
       "        text-align: right;\n",
       "    }\n",
       "</style>\n",
       "<table border=\"1\" class=\"dataframe\">\n",
       "  <thead>\n",
       "    <tr style=\"text-align: right;\">\n",
       "      <th></th>\n",
       "      <th>group1</th>\n",
       "      <th>group2</th>\n",
       "      <th>Diff</th>\n",
       "      <th>Lower</th>\n",
       "      <th>Upper</th>\n",
       "      <th>q-value</th>\n",
       "      <th>p-value</th>\n",
       "    </tr>\n",
       "  </thead>\n",
       "  <tbody>\n",
       "    <tr>\n",
       "      <th>0</th>\n",
       "      <td>Promotion_3</td>\n",
       "      <td>Promotion_2</td>\n",
       "      <td>0.174722</td>\n",
       "      <td>0.097445</td>\n",
       "      <td>0.251999</td>\n",
       "      <td>7.514803</td>\n",
       "      <td>0.001000</td>\n",
       "    </tr>\n",
       "    <tr>\n",
       "      <th>1</th>\n",
       "      <td>Promotion_3</td>\n",
       "      <td>Promotion_1</td>\n",
       "      <td>0.058585</td>\n",
       "      <td>-0.020469</td>\n",
       "      <td>0.137638</td>\n",
       "      <td>2.463098</td>\n",
       "      <td>0.190856</td>\n",
       "    </tr>\n",
       "    <tr>\n",
       "      <th>2</th>\n",
       "      <td>Promotion_2</td>\n",
       "      <td>Promotion_1</td>\n",
       "      <td>0.233306</td>\n",
       "      <td>0.154253</td>\n",
       "      <td>0.312360</td>\n",
       "      <td>9.809008</td>\n",
       "      <td>0.001000</td>\n",
       "    </tr>\n",
       "  </tbody>\n",
       "</table>\n",
       "</div>"
      ],
      "text/plain": [
       "        group1       group2      Diff     Lower     Upper   q-value   p-value\n",
       "0  Promotion_3  Promotion_2  0.174722  0.097445  0.251999  7.514803  0.001000\n",
       "1  Promotion_3  Promotion_1  0.058585 -0.020469  0.137638  2.463098  0.190856\n",
       "2  Promotion_2  Promotion_1  0.233306  0.154253  0.312360  9.809008  0.001000"
      ]
     },
     "execution_count": 18,
     "metadata": {},
     "output_type": "execute_result"
    }
   ],
   "source": [
    "from bioinfokit.analys import stat\n",
    "\n",
    "## Tukey- Kramer test \n",
    "tukey = stat()\n",
    "tukey.tukey_hsd(df=data, \n",
    "                res_var='sales_tran', \n",
    "                xfac_var='treatments', \n",
    "                anova_model='sales_tran ~ C(treatments)')\n",
    "\n",
    "tukey.tukey_summary"
   ]
  },
  {
   "cell_type": "markdown",
   "id": "5090f7c1-03ae-4abd-973f-de3d4a02c43b",
   "metadata": {},
   "source": [
    "##### Test ANOVA assumptions"
   ]
  },
  {
   "cell_type": "markdown",
   "id": "10ac153d-e3ad-47f8-8dd0-9e4ab03803b4",
   "metadata": {},
   "source": [
    "###### Normality "
   ]
  },
  {
   "cell_type": "code",
   "execution_count": 19,
   "id": "be1a3258-cd3e-4b2d-87d0-983aed6c6ffb",
   "metadata": {},
   "outputs": [
    {
     "data": {
      "image/png": "[encoded data removed]",
      "text/plain": [
       "<Figure size 1008x360 with 2 Axes>"
      ]
     },
     "metadata": {
      "needs_background": "light"
     },
     "output_type": "display_data"
    }
   ],
   "source": [
    "## Visual normality test\n",
    "## QQplot\n",
    "fig, ax = plt.subplots(1, 2, figsize = (14, 5))\n",
    "# Satandarize residual \n",
    "qqplot(stats_anov.anova_std_residuals, line = \"45\", ax = ax[0])\n",
    "ax[0].set_xlabel(\"Theoretical Quantiles\")\n",
    "ax[0].set_ylabel(\"Standardized Residuals\")\n",
    "# histogram\n",
    "ax[1].hist(stats_anov.anova_model_out.resid, bins = \"auto\", histtype = \"bar\", ec = \"k\")\n",
    "ax[1].set_xlabel(\"Residuals\")\n",
    "ax[1].set_ylabel('Frequency');"
   ]
  },
  {
   "cell_type": "markdown",
   "id": "41405dd5-8d32-46ae-b705-75599998edd6",
   "metadata": {},
   "source": [
    "##### Shapiro normality test"
   ]
  },
  {
   "cell_type": "code",
   "execution_count": 20,
   "id": "c0608198-707b-4db0-a3a9-36809bc95f73",
   "metadata": {},
   "outputs": [
    {
     "data": {
      "text/plain": [
       "ShapiroResult(statistic=0.9784872531890869, pvalue=3.233699885640817e-07)"
      ]
     },
     "execution_count": 20,
     "metadata": {},
     "output_type": "execute_result"
    }
   ],
   "source": [
    "## Shapiro normality test\n",
    "sha = scipy.stats.shapiro(model.resid) \n",
    "sha"
   ]
  },
  {
   "cell_type": "markdown",
   "id": "e78e17c5-9782-443a-b40b-281de113ba1c",
   "metadata": {},
   "source": [
    "#### Observations"
   ]
  },
  {
   "cell_type": "markdown",
   "id": "fb5ac5a4-8a8b-4328-b141-d465f535f92d",
   "metadata": {},
   "source": [
    "- According to the p-value (<0.05) from the Shapiro test, the ANOVA test does not satisfy the normality assumption. therefore, one-way ANOVA is not the most suitable test option for finding significant differences among the evaluated groups. We should a non paramentric test, in this case a Kruskal - Wallis test."
   ]
  },
  {
   "cell_type": "markdown",
   "id": "615f87d8-0d2c-410e-a0c4-9b44b264964e",
   "metadata": {},
   "source": [
    "#### Non-Parametric"
   ]
  },
  {
   "cell_type": "markdown",
   "id": "79c9e59e-9748-496f-b09e-f74e3f70d2b6",
   "metadata": {},
   "source": [
    "##### Kruskal - Wallis Test (Anova non parametric)"
   ]
  },
  {
   "cell_type": "markdown",
   "id": "8ce48111-8866-4b97-b892-d3d1f53571a3",
   "metadata": {},
   "source": [
    "Hypothesis:\n",
    " - H0: μ1=μ2=…=μp\n",
    " - H1: All μ are not equal"
   ]
  },
  {
   "cell_type": "code",
   "execution_count": 6,
   "id": "d8b181dc-fc4c-4e7f-b41d-de616a89ca72",
   "metadata": {},
   "outputs": [
    {
     "name": "stdout",
     "output_type": "stream",
     "text": [
      "KruskalResult(statistic=53.29475169322799, pvalue=2.6741866266697816e-12)\n"
     ]
    }
   ],
   "source": [
    "krus_test = scipy.stats.kruskal(\n",
    "    data.loc[data[\"treatments\"] == \"Promotion_1\"][\"sales\"],\n",
    "    data.loc[data[\"treatments\"] == \"Promotion_2\"][\"sales\"],\n",
    "    data.loc[data[\"treatments\"] == \"Promotion_3\"][\"sales\"]\n",
    ")\n",
    "print(krus_test)"
   ]
  },
  {
   "cell_type": "markdown",
   "id": "bbe6adb0-b8ea-4b5e-92b8-43add5eb7d0a",
   "metadata": {},
   "source": [
    "##### Observations"
   ]
  },
  {
   "cell_type": "markdown",
   "id": "a98754f0-e58e-4816-acad-f0eac23d8db6",
   "metadata": {},
   "source": [
    "- According to P-value(2.6741866266697816e-12 < 0.05) from the Kruskal-Wallis test, we can say that there is sufficient statistical evidence to reject the hypothesis null. Therefore, the differences among the groups are statistically significants.\n",
    "\n",
    "- To understand where are specific differences among the distributions from the groups, we going to make a Mann-Whitney (due to the samples among the group being unbalanced) post hoc test."
   ]
  },
  {
   "cell_type": "markdown",
   "id": "05c5f14d-a38b-4dc1-b05a-d3c48d1e26ab",
   "metadata": {},
   "source": [
    "##### Mann-Whitney test (Post-hoc test)"
   ]
  },
  {
   "cell_type": "code",
   "execution_count": 21,
   "id": "c9642580-4367-4256-86e2-3a390a11ed49",
   "metadata": {},
   "outputs": [
    {
     "data": {
      "text/html": [
       "<div>\n",
       "<style scoped>\n",
       "    .dataframe tbody tr th:only-of-type {\n",
       "        vertical-align: middle;\n",
       "    }\n",
       "\n",
       "    .dataframe tbody tr th {\n",
       "        vertical-align: top;\n",
       "    }\n",
       "\n",
       "    .dataframe thead th {\n",
       "        text-align: right;\n",
       "    }\n",
       "</style>\n",
       "<table border=\"1\" class=\"dataframe\">\n",
       "  <thead>\n",
       "    <tr style=\"text-align: right;\">\n",
       "      <th></th>\n",
       "      <th>test</th>\n",
       "      <th>p-value</th>\n",
       "    </tr>\n",
       "  </thead>\n",
       "  <tbody>\n",
       "    <tr>\n",
       "      <th>0</th>\n",
       "      <td>22957.5</td>\n",
       "      <td>5.845935e-12</td>\n",
       "    </tr>\n",
       "    <tr>\n",
       "      <th>0</th>\n",
       "      <td>18247.0</td>\n",
       "      <td>3.508410e-02</td>\n",
       "    </tr>\n",
       "    <tr>\n",
       "      <th>0</th>\n",
       "      <td>12093.0</td>\n",
       "      <td>1.197008e-07</td>\n",
       "    </tr>\n",
       "  </tbody>\n",
       "</table>\n",
       "</div>"
      ],
      "text/plain": [
       "      test       p-value\n",
       "0  22957.5  5.845935e-12\n",
       "0  18247.0  3.508410e-02\n",
       "0  12093.0  1.197008e-07"
      ]
     },
     "execution_count": 21,
     "metadata": {},
     "output_type": "execute_result"
    }
   ],
   "source": [
    "##\n",
    "Post_hoc = pd.DataFrame()\n",
    "\n",
    "combination = [(\"Promotion_1\", \"Promotion_2\"), \n",
    "               (\"Promotion_1\", \"Promotion_3\"), \n",
    "               (\"Promotion_2\", \"Promotion_3\")]\n",
    "# Computing the test\n",
    "for i, j in combination: \n",
    "    Post_hoc = Post_hoc.append(pd.DataFrame(\n",
    "        [list(scipy.stats.mannwhitneyu(\n",
    "        x = data.loc[data[\"treatments\"] == i][\"sales\"],\n",
    "        y = data.loc[data[\"treatments\"] == j][\"sales\"],))], columns = [\"test\", \"p-value\"]))\n",
    "    \n",
    "Post_hoc"
   ]
  },
  {
   "cell_type": "markdown",
   "id": "ae198768-9a4f-4822-854f-9284741c02a8",
   "metadata": {},
   "source": [
    "##### Observations"
   ]
  },
  {
   "cell_type": "markdown",
   "id": "79311042-65ef-4eff-a42b-f6d78b6be66a",
   "metadata": {},
   "source": [
    "- The results from the Mann-Whitney test suggest that all pairwise comparations for treatments reject the null hypothesis (p-value < 0.05) and indicates statistically significant differences. In other words, the promotions affect the sales of diffrent manners. In this sense, **promotion with a higher effect was promotion 1**."
   ]
  }
 ],
 "metadata": {
  "kernelspec": {
   "display_name": "Python 3 (ipykernel)",
   "language": "python",
   "name": "python3"
  },
  "language_info": {
   "codemirror_mode": {
    "name": "ipython",
    "version": 3
   },
   "file_extension": ".py",
   "mimetype": "text/x-python",
   "name": "python",
   "nbconvert_exporter": "python",
   "pygments_lexer": "ipython3",
   "version": "3.9.12"
  }
 },
 "nbformat": 4,
 "nbformat_minor": 5
}
